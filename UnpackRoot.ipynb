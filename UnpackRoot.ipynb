{
 "cells": [
  {
   "cell_type": "code",
   "execution_count": 3,
   "metadata": {},
   "outputs": [
    {
     "name": "stdout",
     "output_type": "stream",
     "text": [
      "['TrackWithinCrossStripDetectorTMVA;1']\n"
     ]
    }
   ],
   "source": [
    "import uproot\n",
    "\n",
    "root_file_path = \"GeDSSDElectronTracking.x1.y1.electrontrackingwithcrossstripdetector.tmva.root\" #replace with your file name.\n",
    "\n",
    "with uproot.open(root_file_path) as file:\n",
    "    print(file.keys())"
   ]
  },
  {
   "cell_type": "code",
   "execution_count": 4,
   "metadata": {},
   "outputs": [],
   "source": [
    "\n",
    "import pandas as pd\n",
    "\n",
    "def root_to_csv_chunked(root_file, tree_name, csv_file, chunk_size=100000):\n",
    "    \"\"\"Converts a large ROOT TTree to a CSV file using chunking.\"\"\"\n",
    "    with uproot.open(f\"{root_file}:{tree_name}\") as tree:\n",
    "        for chunk in tree.iterate(step_size=chunk_size, library=\"pd\"):\n",
    "            chunk.to_csv(csv_file, mode='a', header=not pd.io.common.file_exists(csv_file), index=False)\n",
    "\n",
    "# Example usage:\n",
    "root_file_path = \"GeDSSDElectronTracking.x1.y1.electrontrackingwithcrossstripdetector.tmva.root\"\n",
    "tree_name = \"TrackWithinCrossStripDetectorTMVA\"\n",
    "csv_file_path = \"output.csv\"\n",
    "root_to_csv_chunked(root_file_path, tree_name, csv_file_path)"
   ]
  },
  {
   "cell_type": "code",
   "execution_count": null,
   "metadata": {},
   "outputs": [],
   "source": []
  }
 ],
 "metadata": {
  "kernelspec": {
   "display_name": "base",
   "language": "python",
   "name": "python3"
  },
  "language_info": {
   "codemirror_mode": {
    "name": "ipython",
    "version": 3
   },
   "file_extension": ".py",
   "mimetype": "text/x-python",
   "name": "python",
   "nbconvert_exporter": "python",
   "pygments_lexer": "ipython3",
   "version": "3.12.7"
  }
 },
 "nbformat": 4,
 "nbformat_minor": 2
}
